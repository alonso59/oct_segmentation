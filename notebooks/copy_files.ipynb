{
 "cells": [
  {
   "cell_type": "code",
   "execution_count": 5,
   "metadata": {},
   "outputs": [],
   "source": [
    "import os\n",
    "import shutil\n",
    "\n",
    "def get_filenames(path, ext):\n",
    "    X0 = []\n",
    "    for i in sorted(os.listdir(path)):\n",
    "        if i.endswith(ext):\n",
    "            X0.append(os.path.split(i)[1])\n",
    "    return X0\n",
    "\n",
    "files = get_filenames('../OCT_DATASET/dataset/224_3C_May/val_images/', 'tiff')\n",
    "for file in files:\n",
    "    shutil.move(os.path.join('../OCT_DATASET/dataset/224_3C_May/m1/', file), '../OCT_DATASET/dataset/224_3C_May/val_masks/')\n"
   ]
  }
 ],
 "metadata": {
  "interpreter": {
   "hash": "b24ed838d4a46124cbd36f3ed1e02e24eac4a9a48ec44d5c1200085c82eae051"
  },
  "kernelspec": {
   "display_name": "Python 3.7.11 ('torch')",
   "language": "python",
   "name": "python3"
  },
  "language_info": {
   "codemirror_mode": {
    "name": "ipython",
    "version": 3
   },
   "file_extension": ".py",
   "mimetype": "text/x-python",
   "name": "python",
   "nbconvert_exporter": "python",
   "pygments_lexer": "ipython3",
   "version": "3.7.11"
  },
  "orig_nbformat": 4
 },
 "nbformat": 4,
 "nbformat_minor": 2
}
